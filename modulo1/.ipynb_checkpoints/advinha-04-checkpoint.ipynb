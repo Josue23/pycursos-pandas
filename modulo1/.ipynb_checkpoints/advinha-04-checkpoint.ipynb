{
 "cells": [
  {
   "cell_type": "code",
   "execution_count": 9,
   "metadata": {
    "collapsed": false
   },
   "outputs": [
    {
     "name": "stdout",
     "output_type": "stream",
     "text": [
      "Digite o numero a ser encontado: 50\n",
      "Digite um numero: 70\n"
     ]
    }
   ],
   "source": [
    "numero = int(input('Digite o numero a ser encontado: '))\n",
    "guess = int(input('Digite um numero: '))"
   ]
  },
  {
   "cell_type": "code",
   "execution_count": 10,
   "metadata": {
    "collapsed": false
   },
   "outputs": [
    {
     "name": "stdout",
     "output_type": "stream",
     "text": [
      "O número a ser encontrado  é menor. Tente novamente\n",
      "Digite um numero: 70\n",
      "Está frio. A diferença é maior que 5.0. \n"
     ]
    }
   ],
   "source": [
    "if numero > guess:\n",
    "    print('O número a ser encontrado é maior. Tente novamente')\n",
    "    guess = int(input('Digite um numero: '))\n",
    "    \n",
    "    # verifica se a diferença é menor que 10%\n",
    "    if abs(numero - guess) < abs(numero / 10):\n",
    "        print('Está quente. A diferença é menor que %s. ' %abs(numero / 10))\n",
    "    else:\n",
    "        print('Está frio. A diferença é maior que %s. ' %abs(numero / 10))\n",
    "        \n",
    "elif numero < guess:\n",
    "    print('O número a ser encontrado  é menor. Tente novamente')\n",
    "    guess = int(input('Digite um numero: '))\n",
    "    \n",
    "    # verifica se a diferença é menor que 10%\n",
    "    if abs(numero - guess) < abs(numero / 10):\n",
    "        print('Está quente. A diferença é menor que %s. ' %abs(numero / 10))\n",
    "    else:\n",
    "        print('Está frio. A diferença é maior que %s. ' %abs(numero / 10))\n",
    "else:\n",
    "    print('Parabéns! Você acertou')"
   ]
  },
  {
   "cell_type": "code",
   "execution_count": null,
   "metadata": {
    "collapsed": true
   },
   "outputs": [],
   "source": []
  }
 ],
 "metadata": {
  "kernelspec": {
   "display_name": "Python 3",
   "language": "python",
   "name": "python3"
  },
  "language_info": {
   "codemirror_mode": {
    "name": "ipython",
    "version": 3
   },
   "file_extension": ".py",
   "mimetype": "text/x-python",
   "name": "python",
   "nbconvert_exporter": "python",
   "pygments_lexer": "ipython3",
   "version": "3.5.2"
  }
 },
 "nbformat": 4,
 "nbformat_minor": 2
}
