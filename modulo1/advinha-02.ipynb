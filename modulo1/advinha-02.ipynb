{
 "cells": [
  {
   "cell_type": "code",
   "execution_count": 3,
   "metadata": {
    "collapsed": false
   },
   "outputs": [
    {
     "name": "stdout",
     "output_type": "stream",
     "text": [
      "Digite um numero: 41\n"
     ]
    }
   ],
   "source": [
    "numero = 40\n",
    "guess = int(input('Digite um numero: '))"
   ]
  },
  {
   "cell_type": "code",
   "execution_count": 4,
   "metadata": {
    "collapsed": false
   },
   "outputs": [
    {
     "name": "stdout",
     "output_type": "stream",
     "text": [
      "O número é menor. Tente novamente\n",
      "Digite um numero: 39\n"
     ]
    }
   ],
   "source": [
    "if numero > guess:\n",
    "    print('O número é maior. Tente novamente')\n",
    "    guess = int(input('Digite um numero: '))\n",
    "elif numero < guess:\n",
    "    print('O número é menor. Tente novamente')\n",
    "    guess = int(input('Digite um numero: '))\n",
    "else:\n",
    "    print('Parabéns! Você acertou')"
   ]
  },
  {
   "cell_type": "code",
   "execution_count": null,
   "metadata": {
    "collapsed": true
   },
   "outputs": [],
   "source": []
  }
 ],
 "metadata": {
  "kernelspec": {
   "display_name": "Python 3",
   "language": "python",
   "name": "python3"
  },
  "language_info": {
   "codemirror_mode": {
    "name": "ipython",
    "version": 3
   },
   "file_extension": ".py",
   "mimetype": "text/x-python",
   "name": "python",
   "nbconvert_exporter": "python",
   "pygments_lexer": "ipython3",
   "version": "3.5.2"
  }
 },
 "nbformat": 4,
 "nbformat_minor": 2
}
